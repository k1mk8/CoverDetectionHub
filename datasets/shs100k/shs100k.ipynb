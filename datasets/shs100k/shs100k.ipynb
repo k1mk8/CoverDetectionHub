{
  "nbformat": 4,
  "nbformat_minor": 0,
  "metadata": {
    "colab": {
      "provenance": [],
      "gpuType": "T4"
    },
    "kernelspec": {
      "name": "python3",
      "display_name": "Python 3"
    },
    "language_info": {
      "name": "python"
    },
    "accelerator": "GPU"
  },
  "cells": [
    {
      "cell_type": "markdown",
      "source": [
        "# Przygotowanie zbioru shs100k"
      ],
      "metadata": {
        "id": "2zkqkfVs6g_u"
      }
    },
    {
      "cell_type": "markdown",
      "source": [
        "Przygotowanie zbioru shs100k na potrzeby treningu dla większego zbioru danych. Główną optymalizacją wydajności jest usunięcie bardzo długich piosenek, w których często znajdują się momenty ciszy. Następnie wszystkie piosenki zostały przycięte do długości 2 minut.\n",
        "Dzięki tym optymalizacjom udało się dokonać treningu modelu na zbiorze 8000 utworów."
      ],
      "metadata": {
        "id": "fpTrbk8i6nN1"
      }
    },
    {
      "cell_type": "code",
      "execution_count": 8,
      "metadata": {
        "colab": {
          "base_uri": "https://localhost:8080/"
        },
        "id": "m5LoS5xg-XsO",
        "outputId": "d487c13c-b3e8-4a52-96e3-e3ebf0d715bb"
      },
      "outputs": [
        {
          "output_type": "stream",
          "name": "stdout",
          "text": [
            "Requirement already satisfied: yt-dlp in /usr/local/lib/python3.11/dist-packages (2025.5.22)\n",
            "Requirement already satisfied: pandas in /usr/local/lib/python3.11/dist-packages (2.2.2)\n",
            "Requirement already satisfied: ffmpeg-python in /usr/local/lib/python3.11/dist-packages (0.2.0)\n",
            "Requirement already satisfied: numpy>=1.23.2 in /usr/local/lib/python3.11/dist-packages (from pandas) (2.0.2)\n",
            "Requirement already satisfied: python-dateutil>=2.8.2 in /usr/local/lib/python3.11/dist-packages (from pandas) (2.9.0.post0)\n",
            "Requirement already satisfied: pytz>=2020.1 in /usr/local/lib/python3.11/dist-packages (from pandas) (2025.2)\n",
            "Requirement already satisfied: tzdata>=2022.7 in /usr/local/lib/python3.11/dist-packages (from pandas) (2025.2)\n",
            "Requirement already satisfied: future in /usr/local/lib/python3.11/dist-packages (from ffmpeg-python) (1.0.0)\n",
            "Requirement already satisfied: six>=1.5 in /usr/local/lib/python3.11/dist-packages (from python-dateutil>=2.8.2->pandas) (1.17.0)\n"
          ]
        }
      ],
      "source": [
        "pip install yt-dlp pandas ffmpeg-python"
      ]
    },
    {
      "cell_type": "code",
      "source": [
        "import os\n",
        "import csv\n",
        "import json\n",
        "import yt_dlp\n",
        "import whisper\n",
        "from tqdm import tqdm\n",
        "from collections import defaultdict\n",
        "import subprocess"
      ],
      "metadata": {
        "id": "nbe5WlSBwsg1"
      },
      "execution_count": null,
      "outputs": []
    },
    {
      "cell_type": "code",
      "source": [
        "import os\n",
        "import pandas as pd\n",
        "import subprocess\n",
        "from yt_dlp import YoutubeDL\n",
        "\n",
        "OUTPUT_DIR = \"downloads\"\n",
        "MAX_DURATION_SEC = 300\n",
        "TRIM_DURATION = 120\n",
        "\n",
        "df = pd.read_csv(\"shs100k.csv\")\n",
        "\n",
        "ydl_opts = {\n",
        "    'format': 'bestaudio/best',\n",
        "    'quiet': True,\n",
        "    'noplaylist': True,\n",
        "    'outtmpl': '%(id)s.%(ext)s',\n",
        "    'postprocessors': [{\n",
        "        'key': 'FFmpegExtractAudio',\n",
        "        'preferredcodec': 'mp3',\n",
        "        'preferredquality': '192',\n",
        "    }]\n",
        "}\n",
        "\n",
        "def download_and_trim(row):\n",
        "    url = f\"https://www.youtube.com/watch?v={row['Video ID']}\"\n",
        "    clique_folder = os.path.join(OUTPUT_DIR, f\"clique_{row['clique']}\")\n",
        "    os.makedirs(clique_folder, exist_ok=True)\n",
        "\n",
        "    with YoutubeDL(ydl_opts) as ydl:\n",
        "        try:\n",
        "            info = ydl.extract_info(url, download=False)\n",
        "            duration = info.get(\"duration\", 0)\n",
        "\n",
        "            if duration > MAX_DURATION_SEC:\n",
        "                print(f\"Pomijam {row['title']} - za długie: {duration}s\")\n",
        "                return\n",
        "\n",
        "            print(f\"Pobieram: {row['title']} ({duration}s)\")\n",
        "            ydl.download([url])\n",
        "\n",
        "            input_file = f\"{info['id']}.mp3\"\n",
        "            output_file = os.path.join(clique_folder, f\"{row['performer']}_{info['id']}.mp3\")\n",
        "\n",
        "            subprocess.run([\n",
        "                \"ffmpeg\", \"-y\", \"-i\", input_file,\n",
        "                \"-t\", str(TRIM_DURATION),\n",
        "                \"-acodec\", \"copy\", output_file\n",
        "            ], stdout=subprocess.DEVNULL, stderr=subprocess.DEVNULL)\n",
        "\n",
        "            os.remove(input_file)\n",
        "\n",
        "        except Exception as e:\n",
        "            print(f\"Błąd przy {row['title']} - {e}\")\n",
        "\n",
        "for _, row in df.iterrows():\n",
        "    download_and_trim(row)\n"
      ],
      "metadata": {
        "collapsed": true,
        "id": "vFGA3Fx9AvFs"
      },
      "execution_count": null,
      "outputs": []
    }
  ]
}